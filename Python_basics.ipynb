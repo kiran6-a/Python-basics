{
  "nbformat": 4,
  "nbformat_minor": 0,
  "metadata": {
    "colab": {
      "provenance": []
    },
    "kernelspec": {
      "name": "python3",
      "display_name": "Python 3"
    },
    "language_info": {
      "name": "python"
    }
  },
  "cells": [
    {
      "cell_type": "markdown",
      "source": [
        "#Python Basics\n",
        "1. What is Python, and why is it popular?\n",
        "-->Python is a high-level, easy-to-read programming language that's great for beginners and experts alike. It’s popular because of its simplicity, versatility, extensive libraries, strong community support, and high productivity. It's widely used in web development, data analysis, AI, and more.\n",
        "\n",
        "2.  What is an interpreter in Python?\n",
        "-->An interpreter in Python is a program that executes Python code line by line, converting it into machine code on the fly. This means it reads and runs your Python code directly without needing to compile it into a separate executable file first. This allows for quick testing and debugging, making development faster and more interactive.\n",
        "\n",
        "3.  What are pre-defined keywords in Python?\n",
        "-->Pre-defined keywords in Python are reserved words that have specific meanings and purposes. They cannot be used as identifiers (like variable names) because they are integral to the syntax and functionality of the language.\n",
        "\n",
        "Here are some of the most commonly used Python keywords:flase,true,none,or,and,else,elif,if,for,while,not,break,continue etc.\n",
        "\n",
        "4. Can keywords be used as variable names?\n",
        "-->No, keywords cannot be used as variable names in Python. Since they are reserved for specific functions and operations within the language, attempting to use a keyword as a variable name would result in a syntax error.\n",
        "\n",
        "For example, trying to use if as a variable name like this:\n",
        "\n",
        "python\n",
        "if = 10\n",
        "\n",
        "would raise an error. It's essential to choose unique and descriptive names for your variables to avoid conflicts with these reserved keywords.\n",
        "\n",
        "5. What is mutability in Python ?\n",
        "-->Mutability in Python refers to whether or not an object's state can be modified after it has been created.\n",
        "\n",
        "Mutable Objects: These can be changed after creation. For example, lists and dictionaries are mutable. You can alter their contents, such as adding, removing, or changing elements.\n",
        "\n",
        "python\n",
        "my_list = [1, 2, 3]\n",
        "my_list[0] = 4  \n",
        "Immutable Objects: These cannot be changed once created. For example, strings and tuples are immutable. Any operation that tries to modify them will create a new object instead.\n",
        "\n",
        "python\n",
        "my_string = \"hello\"\n",
        "new_string = my_string.replace(\"h\", \"j\")\n",
        "\n",
        "6.  Why are lists mutable, but tuples are immutable?\n",
        "-->Lists and tuples are both useful data structures in Python, but they serve different purposes, which is why they have different mutability characteristics.\n",
        "\n",
        "Lists (Mutable): Lists are designed to store collections of items that can change over time. They allow for dynamic modification, such as adding, removing, or updating elements. This makes them versatile for tasks where you need a flexible and dynamic data structure.\n",
        "\n",
        "python\n",
        "my_list = [1, 2, 3]\n",
        "my_list.append(4)\n",
        "Tuples (Immutable): Tuples, on the other hand, are meant to be static collections of items. Once a tuple is created, its contents cannot be changed. This immutability ensures that the data remains constant, which can be useful for fixed datasets or when you want to ensure that the data cannot be modified by mistake.\n",
        "\n",
        "python\n",
        "my_tuple = (1, 2, 3)\n",
        "\n",
        "7.  What is the difference between “==” and “is” operators in Python?\n",
        "-->In Python, the == and is operators are used for different types of comparisons:\n",
        "\n",
        "== (Equality Operator): This operator checks if the values of two objects are equal. It compares the actual data or contents of the objects.\n",
        "\n",
        "is (Identity Operator): This operator checks if two references point to the same object in memory. It compares the identity of the objects.\n",
        "\n",
        "8.  What are logical operators in Python?\n",
        "-->Logical operators in Python are used to combine conditional statements and perform logical operations on values or expressions. They help control the flow of the program based on certain conditions. There are three main logical operators in Python:\n",
        "And\n",
        "Or\n",
        "Not\n",
        "\n",
        "9.  What is type casting in Python?\n",
        "-->Type casting in Python refers to converting one data type to another. This is useful when you need to perform operations that require specific data types. Python provides built-in functions for type casting, which help in changing the type of an object.\n",
        "\n",
        "Here are some common type casting functions:\n",
        "\n",
        "int(): Converts a value to an integer.\n",
        "float(): Converts a value to a float (decimal).\n",
        "str(): Converts a value to a string.\n",
        "list(): Converts a value to a list.\n",
        "tuple(): Converts a value to a tuple.\n",
        "set(): Converts a value to a set.\n",
        "\n",
        "10.  What is the difference between implicit and explicit type casting?\n",
        "-->Implicit Type Casting (Coercion): This is performed automatically by Python, without any user intervention. It happens when Python converts one data type to another to avoid data loss or maintain consistency in operations.\n",
        "\n",
        "Explicit Type Casting: This is performed manually by the programmer using predefined functions to convert one data type to another. It requires explicit instructions to Python for the conversion.\n",
        "\n",
        "11. What is the purpose of conditional statements in Python?\n",
        "-->Conditional statements in Python allow you to execute specific blocks of code based on certain conditions. They help in making decisions within a program, controlling the flow of execution based on whether a condition is True or False.\n",
        "\n",
        "Here are the main purposes of conditional statements:\n",
        "\n",
        "Decision Making: They enable the program to choose different paths of execution based on given conditions. For example, you might want to perform different actions based on user input.\n",
        "\n",
        "Control Flow: Conditional statements help manage the flow of the program by allowing certain code segments to run only when specific conditions are met.\n",
        "\n",
        "Error Handling: They can be used to handle errors or unexpected situations gracefully, ensuring that the program does not crash and provides useful feedback to the user.\n",
        "\n",
        "Loops: Within loops, conditional statements can control iterations, allowing you to break out of a loop or skip certain iterations based on conditions.\n",
        "\n",
        "\n",
        "12. How does the elif statement work?\n",
        "-->The elif statement in Python is short for \"else if.\" It allows you to check multiple conditions in an if-elif-else sequence. If the initial if condition is false, Python will move on to evaluate the elif condition. If the elif condition is true, the corresponding block of code will execute. If none of the conditions are true, the code inside the else block (if provided) will execute.\n",
        "\n",
        "13. What is the difference between for and while loops?\n",
        "-->The primary difference between for and while loops in Python lies in their structure and usage:\n",
        "\n",
        "for Loop:\n",
        "Structure: A for loop is used to iterate over a sequence (like a list, tuple, string, or range) and executes a block of code for each item in the sequence.\n",
        "\n",
        "Use Case: It is ideal for scenarios where you know the number of iterations in advance or need to iterate over a collection of items.\n",
        "\n",
        "while Loop:\n",
        "Structure: A while loop repeatedly executes a block of code as long as a given condition is True. The condition is evaluated before each iteration.\n",
        "\n",
        "Use Case: It is suitable for scenarios where you don't know the number of iterations beforehand, and the loop should continue until a specific condition changes.\n",
        "\n",
        "14. Describe a scenario where a while loop is more suitable than a for loop?\n",
        "-->A while loop is particularly suitable when the number of iterations is not predetermined and depends on a condition that might change during the loop execution. Here’s a scenario where a while loop is more appropriate than a for loop:\n",
        "\n",
        "Scenario: User Input Validation\n",
        "Suppose you are developing a program that repeatedly prompts the user to enter a valid password until they provide one that meets specific criteria (e.g., a minimum length and containing both letters and numbers). Since you do not know how many attempts the user will need, a while loop is more suitable.\n"
      ],
      "metadata": {
        "id": "REx1-ReFh7xX"
      }
    },
    {
      "cell_type": "code",
      "source": [
        "#Practical questions\n",
        "#1.  Write a Python program to print \"Hello, World!?\n",
        "print(\"Hello, World!\")"
      ],
      "metadata": {
        "colab": {
          "base_uri": "https://localhost:8080/"
        },
        "id": "_0zmYPCYiCBA",
        "outputId": "53857719-e100-48cb-aa1f-3b8c216a263f"
      },
      "execution_count": 1,
      "outputs": [
        {
          "output_type": "stream",
          "name": "stdout",
          "text": [
            "Hello, World!\n"
          ]
        }
      ]
    },
    {
      "cell_type": "markdown",
      "source": [],
      "metadata": {
        "id": "NGVRz8YUpNDp"
      }
    },
    {
      "cell_type": "code",
      "source": [
        "#2. Write a Python program that displays your name and age?\n",
        "# Define variables for name and age\n",
        "name = \"Your Name\"\n",
        "age = 25\n",
        "\n",
        "# Print the name and age\n",
        "print(\"Name:\", name)\n",
        "print(\"Age:\", age)\n"
      ],
      "metadata": {
        "colab": {
          "base_uri": "https://localhost:8080/"
        },
        "id": "xSAeHDUfppS-",
        "outputId": "b6c7f0da-2796-45eb-b9c8-29bcd5b3e069"
      },
      "execution_count": 2,
      "outputs": [
        {
          "output_type": "stream",
          "name": "stdout",
          "text": [
            "Name: Your Name\n",
            "Age: 25\n"
          ]
        }
      ]
    },
    {
      "cell_type": "code",
      "source": [
        "#3.Write code to print all the pre-defined keywords in Python using the keyword library?\n",
        "import keyword\n",
        "keywords = keyword.kwlist\n",
        "\n",
        "# Print each keyword\n",
        "for kw in keywords:\n",
        "    print(kw)\n"
      ],
      "metadata": {
        "colab": {
          "base_uri": "https://localhost:8080/"
        },
        "id": "R4tMxCY1p-iz",
        "outputId": "5907410d-a409-41c4-854b-e4021a558471"
      },
      "execution_count": 3,
      "outputs": [
        {
          "output_type": "stream",
          "name": "stdout",
          "text": [
            "False\n",
            "None\n",
            "True\n",
            "and\n",
            "as\n",
            "assert\n",
            "async\n",
            "await\n",
            "break\n",
            "class\n",
            "continue\n",
            "def\n",
            "del\n",
            "elif\n",
            "else\n",
            "except\n",
            "finally\n",
            "for\n",
            "from\n",
            "global\n",
            "if\n",
            "import\n",
            "in\n",
            "is\n",
            "lambda\n",
            "nonlocal\n",
            "not\n",
            "or\n",
            "pass\n",
            "raise\n",
            "return\n",
            "try\n",
            "while\n",
            "with\n",
            "yield\n"
          ]
        }
      ]
    },
    {
      "cell_type": "code",
      "source": [
        "#4.Write a program that checks if a given word is a Python keyword?\n",
        "import keyword\n",
        "def is_keyword(word):\n",
        "    return keyword.iskeyword(word)\n",
        "\n",
        "# Example usage\n",
        "word_to_check = \"for\"\n",
        "if is_keyword(word_to_check):\n",
        "    print(f\"'{word_to_check}' is a Python keyword.\")\n",
        "else:\n",
        "    print(f\"'{word_to_check}' is not a Python keyword.\")\n"
      ],
      "metadata": {
        "colab": {
          "base_uri": "https://localhost:8080/"
        },
        "id": "E2GwZ4F6qXaZ",
        "outputId": "e7dfeb3c-5dad-4aee-ecc8-9f51a44698c6"
      },
      "execution_count": 4,
      "outputs": [
        {
          "output_type": "stream",
          "name": "stdout",
          "text": [
            "'for' is a Python keyword.\n"
          ]
        }
      ]
    },
    {
      "cell_type": "code",
      "source": [
        "#5. Create a list and tuple in Python, and demonstrate how attempting to change an element works differently?\n",
        "# Create a list\n",
        "my_list = [1, 2, 3, 4, 5]\n",
        "\n",
        "# Print the original list\n",
        "print(\"Original list:\", my_list)\n",
        "\n",
        "# Change the first element\n",
        "my_list[0] = 10\n",
        "\n",
        "# Print the modified list\n",
        "print(\"Modified list:\", my_list)\n"
      ],
      "metadata": {
        "colab": {
          "base_uri": "https://localhost:8080/"
        },
        "id": "tUKzACoOqteN",
        "outputId": "6b9bd138-8b14-478a-a219-53618a0bc2bf"
      },
      "execution_count": 5,
      "outputs": [
        {
          "output_type": "stream",
          "name": "stdout",
          "text": [
            "Original list: [1, 2, 3, 4, 5]\n",
            "Modified list: [10, 2, 3, 4, 5]\n"
          ]
        }
      ]
    },
    {
      "cell_type": "code",
      "source": [
        "# Create a tuple\n",
        "my_tuple = (1, 2, 3, 4, 5)\n",
        "\n",
        "# Print the original tuple\n",
        "print(\"Original tuple:\", my_tuple)\n",
        "\n",
        "# Attempting to change the first element (This will raise an error)\n",
        "try:\n",
        "    my_tuple[0] = 10\n",
        "except TypeError as e:\n",
        "    print(\"Error:\", e)"
      ],
      "metadata": {
        "colab": {
          "base_uri": "https://localhost:8080/"
        },
        "id": "lmAXPpYkrHQW",
        "outputId": "d4717fda-6937-42b4-c4fb-7e3f573ab8c2"
      },
      "execution_count": 6,
      "outputs": [
        {
          "output_type": "stream",
          "name": "stdout",
          "text": [
            "Original tuple: (1, 2, 3, 4, 5)\n",
            "Error: 'tuple' object does not support item assignment\n"
          ]
        }
      ]
    },
    {
      "cell_type": "code",
      "source": [
        "#6. Write a function to demonstrate the behavior of mutable and immutable arguments?\n",
        "def modify_list(lst):\n",
        "    lst.append(4)  # This modifies the original list\n",
        "\n",
        "my_list = [1, 2, 3]\n",
        "print(\"Original list:\", my_list)\n",
        "modify_list(my_list)\n",
        "print(\"Modified list:\", my_list)\n"
      ],
      "metadata": {
        "colab": {
          "base_uri": "https://localhost:8080/"
        },
        "id": "C0sk0_3NrNsA",
        "outputId": "8036b6bb-a96b-4f04-8e4e-5e4393069218"
      },
      "execution_count": 7,
      "outputs": [
        {
          "output_type": "stream",
          "name": "stdout",
          "text": [
            "Original list: [1, 2, 3]\n",
            "Modified list: [1, 2, 3, 4]\n"
          ]
        }
      ]
    },
    {
      "cell_type": "code",
      "source": [
        "def modify_tuple(tpl):\n",
        "    tpl += (4,)  # This creates a new tuple, does not modify the original\n",
        "\n",
        "my_tuple = (1, 2, 3)\n",
        "print(\"Original tuple:\", my_tuple)\n",
        "modify_tuple(my_tuple)\n",
        "print(\"Tuple after function call:\", my_tuple)\n"
      ],
      "metadata": {
        "colab": {
          "base_uri": "https://localhost:8080/"
        },
        "id": "fSvbH-pYrgb-",
        "outputId": "d7e08d4c-1e0e-4ee3-aadb-1926cc3e6eec"
      },
      "execution_count": 8,
      "outputs": [
        {
          "output_type": "stream",
          "name": "stdout",
          "text": [
            "Original tuple: (1, 2, 3)\n",
            "Tuple after function call: (1, 2, 3)\n"
          ]
        }
      ]
    },
    {
      "cell_type": "code",
      "source": [
        "#7.Write a function to demonstrate the behavior of mutable and immutable arguments?\n",
        "def modify_list(lst):\n",
        "    lst.append(4)  # This modifies the original list\n",
        "\n",
        "my_list = [1, 2, 3]\n",
        "print(\"Original list:\", my_list)\n",
        "modify_list(my_list)\n",
        "print(\"Modified list:\", my_list)\n"
      ],
      "metadata": {
        "colab": {
          "base_uri": "https://localhost:8080/"
        },
        "id": "SykYWVGTrjZU",
        "outputId": "c1d285af-c8fa-434e-bb5b-69c54b68485c"
      },
      "execution_count": 9,
      "outputs": [
        {
          "output_type": "stream",
          "name": "stdout",
          "text": [
            "Original list: [1, 2, 3]\n",
            "Modified list: [1, 2, 3, 4]\n"
          ]
        }
      ]
    },
    {
      "cell_type": "code",
      "source": [
        "def modify_tuple(tpl):\n",
        "    tpl += (4,)  # This creates a new tuple, does not modify the original\n",
        "\n",
        "my_tuple = (1, 2, 3)\n",
        "print(\"Original tuple:\", my_tuple)\n",
        "modify_tuple(my_tuple)\n",
        "print(\"Tuple after function call:\", my_tuple)\n"
      ],
      "metadata": {
        "colab": {
          "base_uri": "https://localhost:8080/"
        },
        "id": "ZJ1Q-eI9rvxG",
        "outputId": "84318cd9-0a4b-4797-a406-a047ec485b61"
      },
      "execution_count": 10,
      "outputs": [
        {
          "output_type": "stream",
          "name": "stdout",
          "text": [
            "Original tuple: (1, 2, 3)\n",
            "Tuple after function call: (1, 2, 3)\n"
          ]
        }
      ]
    },
    {
      "cell_type": "code",
      "source": [
        "#8. Write a program to demonstrate the use of logical operators\n",
        "# Function to check eligibility for a discount\n",
        "def check_discount(age, is_member):\n",
        "    if age >= 18 and age <= 25 and is_member:\n",
        "        print(\"Eligible for a student discount.\")\n",
        "    elif age > 60 or is_member:\n",
        "        print(\"Eligible for a senior or member discount.\")\n",
        "    else:\n",
        "        print(\"Not eligible for a discount.\")\n",
        "\n",
        "# Example usage\n",
        "age = int(input(\"Enter your age: \"))\n",
        "membership_status = input(\"Are you a member? (yes/no): \")\n",
        "\n",
        "# Convert membership status to boolean\n",
        "is_member = membership_status.lower() == 'yes'\n",
        "\n",
        "# Check discount eligibility\n",
        "check_discount(age, is_member)\n",
        "\n"
      ],
      "metadata": {
        "colab": {
          "base_uri": "https://localhost:8080/"
        },
        "id": "EnOkE7b6r7eF",
        "outputId": "e1ea5a35-4e88-4d02-cf71-cbb77c5cc045"
      },
      "execution_count": 11,
      "outputs": [
        {
          "output_type": "stream",
          "name": "stdout",
          "text": [
            "Enter your age: 18\n",
            "Are you a member? (yes/no): no\n",
            "Not eligible for a discount.\n"
          ]
        }
      ]
    },
    {
      "cell_type": "code",
      "source": [
        "#9.Write a Python program to convert user input from string to integer, float, and boolean types?\n",
        "# Function to convert user input\n",
        "def convert_input(input_str):\n",
        "    try:\n",
        "        # Convert to integer\n",
        "        int_value = int(input_str)\n",
        "        print(f\"Integer: {int_value}\")\n",
        "    except ValueError:\n",
        "        print(\"Cannot convert to integer\")\n",
        "\n",
        "    try:\n",
        "        # Convert to float\n",
        "        float_value = float(input_str)\n",
        "        print(f\"Float: {float_value}\")\n",
        "    except ValueError:\n",
        "        print(\"Cannot convert to float\")\n",
        "\n",
        "    # Convert to boolean\n",
        "    if input_str.lower() in [\"true\", \"1\", \"yes\", \"y\"]:\n",
        "        bool_value = True\n",
        "    elif input_str.lower() in [\"false\", \"0\", \"no\", \"n\"]:\n",
        "        bool_value = False\n",
        "    else:\n",
        "        bool_value = None  # Indicates invalid boolean value\n",
        "\n",
        "    if bool_value is not None:\n",
        "        print(f\"Boolean: {bool_value}\")\n",
        "    else:\n",
        "        print(\"Cannot convert to boolean\")\n",
        "\n",
        "# Get user input\n",
        "user_input = input(\"Enter a value: \")\n",
        "\n",
        "# Convert the input\n",
        "convert_input(user_input)\n"
      ],
      "metadata": {
        "colab": {
          "base_uri": "https://localhost:8080/"
        },
        "id": "XG2yW33TsOMc",
        "outputId": "7a838707-edb5-4591-decc-aac8188216be"
      },
      "execution_count": 12,
      "outputs": [
        {
          "output_type": "stream",
          "name": "stdout",
          "text": [
            "Enter a value: 5\n",
            "Integer: 5\n",
            "Float: 5.0\n",
            "Cannot convert to boolean\n"
          ]
        }
      ]
    },
    {
      "cell_type": "code",
      "source": [
        "#10.Write code to demonstrate type casting with list elements\n",
        "# Create a list with elements of different types\n",
        "original_list = [\"10\", 20, \"30.5\", \"True\", False]\n",
        "\n",
        "# Function to convert elements of a list to integers\n",
        "def convert_to_int(lst):\n",
        "    int_list = []\n",
        "    for element in lst:\n",
        "        try:\n",
        "            int_list.append(int(element))\n",
        "        except ValueError:\n",
        "            print(f\"Cannot convert '{element}' to integer\")\n",
        "    return int_list\n",
        "\n",
        "# Function to convert elements of a list to floats\n",
        "def convert_to_float(lst):\n",
        "    float_list = []\n",
        "    for element in lst:\n",
        "        try:\n",
        "            float_list.append(float(element))\n",
        "        except ValueError:\n",
        "            print(f\"Cannot convert '{element}' to float\")\n",
        "    return float_list\n",
        "\n",
        "# Function to convert elements of a list to strings\n",
        "def convert_to_str(lst):\n",
        "    str_list = [str(element) for element in lst]\n",
        "    return str_list\n",
        "\n",
        "# Demonstrate type casting\n",
        "print(\"Original list:\", original_list)\n",
        "\n",
        "int_list = convert_to_int(original_list)\n",
        "print(\"List with elements converted to integers:\", int_list)\n",
        "\n",
        "float_list = convert_to_float(original_list)\n",
        "print(\"List with elements converted to floats:\", float_list)\n",
        "\n",
        "str_list = convert_to_str(original_list)\n",
        "print(\"List with elements converted to strings:\", str_list)\n",
        "\n"
      ],
      "metadata": {
        "colab": {
          "base_uri": "https://localhost:8080/"
        },
        "id": "yoQho1hvsdgJ",
        "outputId": "1e0dc3db-023a-42dc-a2a5-4b2ebfc72451"
      },
      "execution_count": 13,
      "outputs": [
        {
          "output_type": "stream",
          "name": "stdout",
          "text": [
            "Original list: ['10', 20, '30.5', 'True', False]\n",
            "Cannot convert '30.5' to integer\n",
            "Cannot convert 'True' to integer\n",
            "List with elements converted to integers: [10, 20, 0]\n",
            "Cannot convert 'True' to float\n",
            "List with elements converted to floats: [10.0, 20.0, 30.5, 0.0]\n",
            "List with elements converted to strings: ['10', '20', '30.5', 'True', 'False']\n"
          ]
        }
      ]
    },
    {
      "cell_type": "code",
      "source": [
        "#11.Write a program that checks if a number is positive, negative, or zero?\n",
        "# Function to check if a number is positive, negative, or zero\n",
        "def check_number(num):\n",
        "    if num > 0:\n",
        "        print(f\"{num} is positive.\")\n",
        "    elif num < 0:\n",
        "        print(f\"{num} is negative.\")\n",
        "    else:\n",
        "        print(f\"{num} is zero.\")\n",
        "\n",
        "# Example usage\n",
        "number = float(input(\"Enter a number: \"))\n",
        "check_number(number)\n"
      ],
      "metadata": {
        "colab": {
          "base_uri": "https://localhost:8080/"
        },
        "id": "YLBOzUC7stoz",
        "outputId": "24f56d72-40b9-4bd4-f08d-83a294a48cdc"
      },
      "execution_count": 14,
      "outputs": [
        {
          "output_type": "stream",
          "name": "stdout",
          "text": [
            "Enter a number: 5\n",
            "5.0 is positive.\n"
          ]
        }
      ]
    },
    {
      "cell_type": "code",
      "source": [
        "#12. Write a for loop to print numbers from 1 to 10?\n",
        "for i in range(1, 11):\n",
        "    print(i)\n",
        "\n"
      ],
      "metadata": {
        "colab": {
          "base_uri": "https://localhost:8080/"
        },
        "id": "-hMUFUtfs2t2",
        "outputId": "0b14d648-0c5c-4b7e-bed9-a898802e40f5"
      },
      "execution_count": 15,
      "outputs": [
        {
          "output_type": "stream",
          "name": "stdout",
          "text": [
            "1\n",
            "2\n",
            "3\n",
            "4\n",
            "5\n",
            "6\n",
            "7\n",
            "8\n",
            "9\n",
            "10\n"
          ]
        }
      ]
    },
    {
      "cell_type": "code",
      "source": [
        "#13. Write a Python program to find the sum of all even numbers between 1 and 50?\n",
        "# Initialize the sum variable\n",
        "sum_even = 0\n",
        "\n",
        "# Iterate through numbers from 1 to 50\n",
        "for num in range(1, 51):\n",
        "    # Check if the number is even\n",
        "    if num % 2 == 0:\n",
        "        sum_even += num\n",
        "\n",
        "# Print the result\n",
        "print(\"The sum of all even numbers between 1 and 50 is:\", sum_even)\n"
      ],
      "metadata": {
        "colab": {
          "base_uri": "https://localhost:8080/"
        },
        "id": "kp3L-TkJtM0v",
        "outputId": "4333888a-90d8-4aef-e143-84a1e6e5af51"
      },
      "execution_count": 16,
      "outputs": [
        {
          "output_type": "stream",
          "name": "stdout",
          "text": [
            "The sum of all even numbers between 1 and 50 is: 650\n"
          ]
        }
      ]
    },
    {
      "cell_type": "code",
      "source": [
        "#14.Write a program to reverse a string using a while loop?\n",
        "# Function to reverse a string using a while loop\n",
        "def reverse_string(s):\n",
        "    reversed_str = \"\"\n",
        "    index = len(s) - 1\n",
        "\n",
        "    while index >= 0:\n",
        "        reversed_str += s[index]\n",
        "        index -= 1\n",
        "\n",
        "    return reversed_str\n",
        "\n",
        "# Example usage\n",
        "original_string = input(\"Enter a string to reverse: \")\n",
        "reversed_string = reverse_string(original_string)\n",
        "print(\"Reversed string:\", reversed_string)\n"
      ],
      "metadata": {
        "colab": {
          "base_uri": "https://localhost:8080/"
        },
        "id": "sQlxv5LptXsL",
        "outputId": "6a50525a-507c-458b-a8fa-cebda7bb6c74"
      },
      "execution_count": 17,
      "outputs": [
        {
          "output_type": "stream",
          "name": "stdout",
          "text": [
            "Enter a string to reverse: kiran\n",
            "Reversed string: narik\n"
          ]
        }
      ]
    },
    {
      "cell_type": "code",
      "source": [
        "#15. Write a Python program to calculate the factorial of a number provided by the user using a while loop?\n",
        "# Function to calculate factorial using a while loop\n",
        "def calculate_factorial(number):\n",
        "    factorial = 1\n",
        "    while number > 0:\n",
        "        factorial *= number\n",
        "        number -= 1\n",
        "    return factorial\n",
        "\n",
        "# Get user input\n",
        "num = int(input(\"Enter a number to calculate its factorial: \"))\n",
        "\n",
        "# Ensure the number is non-negative\n",
        "if num < 0:\n",
        "    print(\"Factorial is not defined for negative numbers.\")\n",
        "else:\n",
        "    result = calculate_factorial(num)\n",
        "    print(f\"The factorial of {num} is {result}.\")\n"
      ],
      "metadata": {
        "colab": {
          "base_uri": "https://localhost:8080/"
        },
        "id": "NPp5Kfyitlvu",
        "outputId": "36e083d7-c566-4418-e259-36015b7ef1a6"
      },
      "execution_count": 19,
      "outputs": [
        {
          "output_type": "stream",
          "name": "stdout",
          "text": [
            "Enter a number to calculate its factorial: 20\n",
            "The factorial of 20 is 2432902008176640000.\n"
          ]
        }
      ]
    },
    {
      "cell_type": "code",
      "source": [],
      "metadata": {
        "id": "s650CQ4Yt0Ae"
      },
      "execution_count": null,
      "outputs": []
    }
  ]
}